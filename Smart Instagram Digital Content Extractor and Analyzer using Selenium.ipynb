{
 "cells": [
  {
   "cell_type": "code",
   "execution_count": 2,
   "metadata": {},
   "outputs": [],
   "source": [
    "## Compulsary Run\n",
    "from selenium.common.exceptions import NoSuchElementException\n",
    "from selenium.webdriver.support.ui import WebDriverWait\n",
    "from selenium.webdriver.support import expected_conditions as EC\n",
    "from selenium.webdriver.common.keys import Keys\n",
    "from selenium.webdriver.common.by import By\n",
    "from selenium import webdriver\n",
    "from bs4 import BeautifulSoup as bs\n",
    "import time\n",
    "d = r'C:\\Users\\ankit\\Downloads\\chromedriver'\n",
    "driver = webdriver.Chrome(executable_path = d)\n",
    "wait = WebDriverWait(driver, 600)"
   ]
  },
  {
   "cell_type": "code",
   "execution_count": 3,
   "metadata": {},
   "outputs": [],
   "source": [
    "def open_insta():\n",
    "    d = 'https://www.instagram.com/?hl=en'\n",
    "    driver.get(d)\n",
    "open_insta()"
   ]
  },
  {
   "cell_type": "code",
   "execution_count": 4,
   "metadata": {},
   "outputs": [],
   "source": [
    "## 1.) 1.)\n",
    "def login(user_id , user_pass):\n",
    "    username = user_id\n",
    "    password = user_pass\n",
    "    driver.refresh()\n",
    "    email_input_path = '//*[@aria-label=\"Phone number, username, or email\"]'\n",
    "    email_input = wait.until(EC.presence_of_element_located((By.XPATH, email_input_path)))\n",
    "    pass_input_path = \"//*[@aria-label = 'Password']\"\n",
    "    pass_input = wait.until(EC.presence_of_element_located((By.XPATH, pass_input_path)))\n",
    "    email_input.send_keys(username)\n",
    "    pass_input.send_keys(password)\n",
    "    pass_input.submit()\n",
    "login('userid','password')"
   ]
  },
  {
   "cell_type": "code",
   "execution_count": 8,
   "metadata": {},
   "outputs": [],
   "source": [
    "# ## 2.) 1.)\n",
    "# def insta_search(data):\n",
    "#     driver.refresh()\n",
    "#     search = driver.find_element_by_class_name('x3qfX')\n",
    "#     search.clear()\n",
    "#     search.send_keys(data)\n",
    "#     time.sleep(3)\n",
    "#     food_names = driver.find_elements_by_class_name('uyeeR')\n",
    "#     for i in food_names:\n",
    "#         if i.text[0] == '#':\n",
    "#             pass\n",
    "#         else:\n",
    "#             print(i.text)\n",
    "# insta_search('food')"
   ]
  },
  {
   "cell_type": "code",
   "execution_count": null,
   "metadata": {},
   "outputs": [],
   "source": []
  },
  {
   "cell_type": "code",
   "execution_count": 29,
   "metadata": {},
   "outputs": [],
   "source": [
    "## 3.) 1.)\n",
    "def open_search(s):\n",
    "    driver.refresh()\n",
    "    insta = driver.find_element_by_class_name('cq2ai')\n",
    "    insta.click()\n",
    "    time.sleep(2)\n",
    "    search = wait.until(EC.presence_of_element_located((By.XPATH, \"//*[@class='XTCLo  x3qfX ']\")))\n",
    "#     search.clear()\n",
    "    search.send_keys(s)\n",
    "    account = wait.until(EC.presence_of_element_located((By.XPATH, \"//*[@class='_7UhW9   xLCgt      MMzan   _0PwGv             fDxYl     ']\")))\n",
    "    account.click()\n",
    "open_search('elon')"
   ]
  },
  {
   "cell_type": "code",
   "execution_count": 24,
   "metadata": {},
   "outputs": [],
   "source": []
  },
  {
   "cell_type": "code",
   "execution_count": 32,
   "metadata": {},
   "outputs": [
    {
     "name": "stdout",
     "output_type": "stream",
     "text": [
      "Already Following\n"
     ]
    }
   ],
   "source": [
    "## 4.) 2.) following\n",
    "def follow_account():\n",
    "    follow = driver.find_element_by_class_name('_5f5mN')\n",
    "    if follow.text == 'Follow':\n",
    "        follow.click()\n",
    "        print('Followed')\n",
    "\n",
    "    else:\n",
    "        print('Already Following')\n",
    "follow_account()"
   ]
  },
  {
   "cell_type": "code",
   "execution_count": 34,
   "metadata": {},
   "outputs": [
    {
     "name": "stdout",
     "output_type": "stream",
     "text": [
      "Already Not Following\n"
     ]
    }
   ],
   "source": [
    "## 4.) 3.) not following \n",
    "def unfollow_account():\n",
    "    unfollow = driver.find_element_by_class_name('_5f5mN')\n",
    "    if unfollow.text != 'Follow':\n",
    "        unfollow.click()\n",
    "        time.sleep(1)\n",
    "        unf = driver.find_elements_by_class_name('aOOlW')\n",
    "        unf[0].click()\n",
    "        print('Unfollowed')\n",
    "    else:\n",
    "        print('Already Not Following')\n",
    "unfollow_account()"
   ]
  },
  {
   "cell_type": "code",
   "execution_count": 66,
   "metadata": {},
   "outputs": [
    {
     "name": "stdout",
     "output_type": "stream",
     "text": [
      "Post Liked  7\n",
      "Post Liked  8\n",
      "Post Liked  9\n",
      "Post Liked  10\n",
      "Post Liked  11\n",
      "Post Liked  12\n",
      "Post Liked  13\n",
      "Post Liked  14\n",
      "Post Liked  15\n",
      "DONE\n"
     ]
    }
   ],
   "source": [
    "## 5.) 1.)\n",
    "def like_posts(s,nk):\n",
    "#     s = 'cricketcomau'\n",
    "    driver.refresh()\n",
    "    time.sleep(2)\n",
    "    insta = driver.find_element_by_class_name('cq2ai')\n",
    "    insta.click()\n",
    "    time.sleep(2)\n",
    "    search = wait.until(EC.presence_of_element_located((By.XPATH, \"//*[@class='XTCLo  x3qfX ']\")))\n",
    "    search.send_keys(s)\n",
    "    account = wait.until(EC.presence_of_element_located((By.XPATH, \"//*[@class='_7UhW9   xLCgt      MMzan   _0PwGv             fDxYl     ']\")))\n",
    "    account.click()\n",
    "    post = wait.until(EC.presence_of_element_located((By.XPATH,\"//*[@class = 'v1Nh3 kIKUG  _bz0w']\")))\n",
    "    post.click()\n",
    "    time.sleep(2)\n",
    "    count = 0\n",
    "    while count < nk: \n",
    "        like = wait.until(EC.presence_of_element_located((By.XPATH,\"//*[@class = 'fr66n']//span\")))\n",
    "        check = like.get_attribute('innerHTML')[17:18]\n",
    "        if check == 'L':\n",
    "            print('Post Liked ', (count+1))\n",
    "            like.click()\n",
    "        count+=1\n",
    "        next_post = wait.until(EC.presence_of_element_located((By.XPATH,\"//*[@class = ' _65Bje  coreSpriteRightPaginationArrow']\")))\n",
    "        next_post.click()\n",
    "    print('DONE')\n",
    "like_posts('elon',15)"
   ]
  },
  {
   "cell_type": "code",
   "execution_count": null,
   "metadata": {},
   "outputs": [],
   "source": []
  },
  {
   "cell_type": "code",
   "execution_count": 68,
   "metadata": {},
   "outputs": [
    {
     "name": "stdout",
     "output_type": "stream",
     "text": [
      "Post Liked  1\n",
      "Post Liked  2\n",
      "Post Liked  3\n",
      "Post Liked  4\n",
      "Post Liked  5\n",
      "Post Liked  6\n",
      "Post Liked  7\n",
      "Post Liked  8\n",
      "Post Liked  9\n",
      "Post Liked  10\n",
      "Post Liked  11\n",
      "Post Liked  12\n",
      "Post Liked  13\n",
      "Post Liked  14\n",
      "Post Liked  15\n",
      "DONE\n"
     ]
    }
   ],
   "source": [
    "## 5.) 1.)\n",
    "def unlike_posts(s,nk):\n",
    "    driver.refresh()\n",
    "    time.sleep(2)\n",
    "    insta = driver.find_element_by_class_name('cq2ai')\n",
    "    insta.click()\n",
    "    time.sleep(2)\n",
    "    search = wait.until(EC.presence_of_element_located((By.XPATH, \"//*[@class='XTCLo  x3qfX ']\")))\n",
    "    search.send_keys(s)\n",
    "    account = wait.until(EC.presence_of_element_located((By.XPATH, \"//*[@class='_7UhW9   xLCgt      MMzan   _0PwGv             fDxYl     ']\")))\n",
    "    account.click()\n",
    "    post = wait.until(EC.presence_of_element_located((By.XPATH,\"//*[@class = 'v1Nh3 kIKUG  _bz0w']\")))\n",
    "    post.click()\n",
    "    time.sleep(2)\n",
    "    count = 0\n",
    "    while count < nk: \n",
    "        like = wait.until(EC.presence_of_element_located((By.XPATH,\"//*[@class = 'fr66n']//span\")))\n",
    "        check = like.get_attribute('innerHTML')[17:18]\n",
    "        if check == 'U':\n",
    "            print('Post Liked ', (count+1))\n",
    "            like.click()\n",
    "        count+=1\n",
    "        next_post = wait.until(EC.presence_of_element_located((By.XPATH,\"//*[@class = ' _65Bje  coreSpriteRightPaginationArrow']\")))\n",
    "        next_post.click()\n",
    "    print('DONE')\n",
    "unlike_posts('elon',15)"
   ]
  },
  {
   "cell_type": "code",
   "execution_count": null,
   "metadata": {},
   "outputs": [],
   "source": []
  },
  {
   "cell_type": "code",
   "execution_count": 78,
   "metadata": {},
   "outputs": [
    {
     "name": "stdout",
     "output_type": "stream",
     "text": [
      "24\n",
      "vinayak0089\n",
      "_ganesh_mudhiraj__\n",
      "ayan_gamer_cr7\n",
      "rajput___ff\n",
      "custom__gamer_\n",
      "mr_abhishek_kin0\n",
      "piyush_kumar1848\n",
      "pr1234562020\n",
      "lucky__ff440\n",
      "_boss_abrar_\n",
      "payal_55211\n",
      "faaiz_matloob_moludi\n",
      "gyanbadshah_\n",
      "ateeqseemaateeqseema\n",
      "_doll_snapy_\n",
      "mahakal_is_here\n",
      "sg_sanam.77\n",
      "roy__ansh\n",
      "vishu_0_0_7__\n",
      "h_a_lover143\n",
      "mk_kalam07\n",
      "mayurmeghwal6\n",
      "itzzsureshkumar\n",
      "look__bhai\n",
      "DONE\n"
     ]
    }
   ],
   "source": [
    "## 6.) 1.)\n",
    "def extract_n_followers(s , n):\n",
    "    driver.refresh()\n",
    "    time.sleep(2)\n",
    "    insta = driver.find_element_by_class_name('cq2ai')\n",
    "    insta.click()\n",
    "    time.sleep(2)\n",
    "    search = wait.until(EC.presence_of_element_located((By.XPATH, \"//*[@class='XTCLo  x3qfX ']\")))\n",
    "    search.send_keys(s)\n",
    "    account = wait.until(EC.presence_of_element_located((By.XPATH, \"//*[@class='_7UhW9   xLCgt      MMzan   _0PwGv             fDxYl     ']\")))\n",
    "    account.click()\n",
    "    \n",
    "#     //*[@class = 'g47SY ']\n",
    "    like = driver.find_elements_by_class_name('g47SY')\n",
    "    like[1].click()\n",
    "    time.sleep(2)\n",
    "    scroll = 0\n",
    "    fBody  = wait.until(EC.presence_of_element_located((By.XPATH,\"//*[@class = 'isgrP']\")))\n",
    "    while True:\n",
    "        driver.execute_script('arguments[0].scrollTop = arguments[0].scrollTop + arguments[0].offsetHeight;', fBody)\n",
    "        time.sleep(2)\n",
    "        scroll += 1\n",
    "\n",
    "        fList  = driver.find_elements_by_xpath(\"//div[@class='isgrP']//li\")\n",
    "        if len(fList) > n:\n",
    "            break\n",
    "    followers = driver.find_elements_by_class_name('FPmhX')\n",
    "    print(len(followers))\n",
    "    for i in followers:\n",
    "        print(i.text)\n",
    "    print('DONE')\n",
    "extract_n_followers('arrow',15)"
   ]
  },
  {
   "cell_type": "code",
   "execution_count": 77,
   "metadata": {},
   "outputs": [],
   "source": []
  },
  {
   "cell_type": "code",
   "execution_count": 139,
   "metadata": {},
   "outputs": [
    {
     "name": "stdout",
     "output_type": "stream",
     "text": [
      "User Has currently : 19 Stories\n",
      "Stories Left To be Seen : 3\n"
     ]
    }
   ],
   "source": [
    "# ## 7.) All Parts\n",
    "# def check_story(s):\n",
    "#     driver.refresh()\n",
    "#     time.sleep(4)\n",
    "#     insta = driver.find_element_by_class_name('cq2ai')\n",
    "#     insta.click()\n",
    "#     time.sleep(4)\n",
    "#     search = driver.find_element_by_class_name('x3qfX')\n",
    "#     search.clear()\n",
    "#     search.send_keys(s)\n",
    "#     time.sleep(4)\n",
    "#     account = driver.find_element_by_class_name('-qQT3')\n",
    "#     account.click()\n",
    "#     time.sleep(4)\n",
    "#     try:\n",
    "#         story_click = driver.find_element_by_class_name('_2dbep')\n",
    "#         story_click.click()\n",
    "#         time.sleep(4)\n",
    "#         a = driver.find_elements_by_class_name('_7zQEa')\n",
    "#         print(\"User Has currently : \" + str(len(a)) + \" Stories\")\n",
    "#         try:\n",
    "#             b = driver.find_elements_by_class_name('XcATa')\n",
    "#             if len(a) == len(b):\n",
    "#                 print('All Stories Seen')\n",
    "#             else:\n",
    "#                 print(\"Stories Left To be Seen : \" + str(len(b)))\n",
    "#         except NoSuchElementException:\n",
    "#             print('All Stories Unseen')        \n",
    "#     except NoSuchElementException:\n",
    "#         print('User Has Posted No Story')\n",
    "# check_story('factworld')"
   ]
  },
  {
   "cell_type": "code",
   "execution_count": 10,
   "metadata": {},
   "outputs": [
    {
     "name": "stdout",
     "output_type": "stream",
     "text": [
      "yourfoodlab 1737866\n",
      "foodie_incarnate 536992\n",
      "delhifoodwalks 147375\n",
      "food 130361\n",
      "the.food_cult 66950\n"
     ]
    }
   ],
   "source": [
    "## 1.) 1.)\n",
    "def Top_pages(s):\n",
    "    driver.refresh()\n",
    "    time.sleep(2)\n",
    "    insta = driver.find_element_by_class_name('cq2ai')\n",
    "    insta.click()\n",
    "    time.sleep(2)\n",
    "    search = wait.until(EC.presence_of_element_located((By.XPATH, \"//*[@class='XTCLo  x3qfX ']\")))\n",
    "    search.send_keys(s)\n",
    "#     account = wait.until(EC.presence_of_element_located((By.XPATH, \"//*[@class='_7UhW9   xLCgt      MMzan   _0PwGv             fDxYl     ']\")))\n",
    "#     account.click()\n",
    "    wait.until(EC.presence_of_element_located((By.XPATH, \"//*[@class='-qQT3']\"))) \n",
    "    all_page = driver.find_elements_by_class_name('-qQT3')\n",
    "    count = 0\n",
    "    page_list = []\n",
    "    ans = {}\n",
    "    for i in all_page:\n",
    "        if count==10:\n",
    "            break\n",
    "        html = i.get_attribute('outerHTML')   \n",
    "        data = bs(html , 'html.parser')\n",
    "        page_list.append(data.a['href'])\n",
    "        count+=1\n",
    "    page_name = {}\n",
    "    for i in page_list:\n",
    "        d = 'https://www.instagram.com' + i\n",
    "        driver.get(d)\n",
    "        wait.until(EC.presence_of_element_located((By.XPATH, \"//*[@class='g47SY ']\")))\n",
    "        followers = driver.find_elements_by_class_name('Y8-fY')\n",
    "        num = bs(followers[1].get_attribute('outerHTML'), 'html.parser').li.a.span['title']\n",
    "        follow = 0\n",
    "        for j in num:\n",
    "            if j ==',':\n",
    "                continue\n",
    "            follow = follow*10 + float(j)\n",
    "        page_name[driver.find_element_by_class_name('_7UhW9').text] = int(follow)\n",
    "    p = 0\n",
    "    while p<5:\n",
    "        max_key  = max(page_name , key = page_name.get)\n",
    "        print(max_key , page_name[max_key])\n",
    "        ans[max_key] = page_name[max_key]\n",
    "        page_name.pop(max_key)\n",
    "        p+=1\n",
    "    return ans\n",
    "ans = Top_pages('food')"
   ]
  },
  {
   "cell_type": "code",
   "execution_count": 11,
   "metadata": {},
   "outputs": [],
   "source": [
    "## 1.) 2.)\n",
    "def posts_in_n_days(pages , n):\n",
    "    posts_on_pages = {}\n",
    "    for i in pages:\n",
    "        d = 'https://www.instagram.com' + '/' + i + '/'\n",
    "        driver.get(d)\n",
    "        count = 0\n",
    "        wait.until(EC.presence_of_element_located((By.XPATH, \"//*[@class='_9AhH0']\")))\n",
    "        first_page = driver.find_element_by_class_name('_9AhH0')\n",
    "        first_page.click()\n",
    "        while True:\n",
    "            wait.until(EC.presence_of_element_located((By.XPATH, \"//*[@class='_1o9PC Nzb55']\")))\n",
    "            date = driver.find_element_by_class_name('_1o9PC')\n",
    "            if 'HOURS' in date.text:\n",
    "                count+=1\n",
    "            elif 'DAY' in date.text and (int(date.text.split(' ')[0]) < n+1):\n",
    "                count+=1\n",
    "            else:\n",
    "                break\n",
    "            next_post = driver.find_element_by_class_name('coreSpriteRightPaginationArrow')\n",
    "            next_post.click()\n",
    "            \n",
    "        posts_on_pages[i] = count\n",
    "    return posts_on_pages"
   ]
  },
  {
   "cell_type": "code",
   "execution_count": 12,
   "metadata": {},
   "outputs": [],
   "source": [
    "postperday = posts_in_n_days(ans , 3)"
   ]
  },
  {
   "cell_type": "code",
   "execution_count": 13,
   "metadata": {},
   "outputs": [
    {
     "data": {
      "text/plain": [
       "{'yourfoodlab': 4,\n",
       " 'foodie_incarnate': 6,\n",
       " 'delhifoodwalks': 3,\n",
       " 'food': 2,\n",
       " 'the.food_cult': 0}"
      ]
     },
     "execution_count": 13,
     "metadata": {},
     "output_type": "execute_result"
    }
   ],
   "source": [
    "postperday"
   ]
  },
  {
   "cell_type": "code",
   "execution_count": 14,
   "metadata": {},
   "outputs": [
    {
     "data": {
      "image/png": "[encoded data removed]",
      "text/plain": [
       "<Figure size 432x288 with 1 Axes>"
      ]
     },
     "metadata": {
      "needs_background": "light"
     },
     "output_type": "display_data"
    }
   ],
   "source": [
    "## 1.) 3.)\n",
    "from matplotlib import pyplot as plt\n",
    "x = []\n",
    "y = []\n",
    "for i in postperday:\n",
    "    x.append(i)\n",
    "    y.append(postperday[i])\n",
    "plt.bar(x,y)\n",
    "plt.xticks(rotation=40)\n",
    "plt.show()\n"
   ]
  },
  {
   "cell_type": "code",
   "execution_count": 16,
   "metadata": {},
   "outputs": [],
   "source": [
    "## 2.) 1.)\n",
    "def get_content_n_posts(pages , n):\n",
    "    posts_on_pages = {}\n",
    "    for i in pages:\n",
    "        d = 'https://www.instagram.com' + '/' + i + '/'\n",
    "        driver.get(d)\n",
    "        count = 0\n",
    "        posts_on_pages[i] = []\n",
    "        wait.until(EC.presence_of_element_located((By.XPATH, \"//*[@class='_9AhH0']\")))\n",
    "        first_page = driver.find_element_by_class_name('_9AhH0')\n",
    "        first_page.click()\n",
    "        while count<n:\n",
    "            wait.until(EC.presence_of_element_located((By.XPATH, \"//*[@class='C4VMK']\")))\n",
    "            content = bs(driver.find_element_by_class_name('C4VMK').get_attribute('innerHTML') , 'html.parser').find_all('span')[1].text\n",
    "            if content == 'Verified':\n",
    "                content = bs(driver.find_element_by_class_name('C4VMK').get_attribute('innerHTML') , 'html.parser').find_all('span')[2].text\n",
    "            posts_on_pages[i].append(content)\n",
    "            count +=1\n",
    "            next_post = driver.find_element_by_class_name('coreSpriteRightPaginationArrow')\n",
    "            next_post.click()\n",
    "            \n",
    "    return posts_on_pages"
   ]
  },
  {
   "cell_type": "code",
   "execution_count": 18,
   "metadata": {},
   "outputs": [],
   "source": [
    "content_of_n_pages = get_content_n_posts(ans , 5)"
   ]
  },
  {
   "cell_type": "code",
   "execution_count": 19,
   "metadata": {},
   "outputs": [],
   "source": [
    "## 2.) 2.)\n",
    "most_used = {}\n",
    "for i in content_of_n_pages:\n",
    "    for j in content_of_n_pages[i]:\n",
    "        for m in j.split('.'):\n",
    "            for k in m.split(' '):\n",
    "                if k.strip() in most_used:\n",
    "                    most_used[k.strip()] += 1\n",
    "                else:\n",
    "                    most_used[k.strip()] = 1\n",
    "word = []\n",
    "freq = []\n",
    "for i in reversed(sorted(most_used.items(), key = lambda kv:(kv[1], kv[0]))) :  \n",
    "     word.append(i[0])\n",
    "     freq.append(i[1])\n",
    "fin = {'Words' : word , 'Frequency' : freq}"
   ]
  },
  {
   "cell_type": "code",
   "execution_count": 20,
   "metadata": {},
   "outputs": [
    {
     "data": {
      "text/html": [
       "<div>\n",
       "<style scoped>\n",
       "    .dataframe tbody tr th:only-of-type {\n",
       "        vertical-align: middle;\n",
       "    }\n",
       "\n",
       "    .dataframe tbody tr th {\n",
       "        vertical-align: top;\n",
       "    }\n",
       "\n",
       "    .dataframe thead th {\n",
       "        text-align: right;\n",
       "    }\n",
       "</style>\n",
       "<table border=\"1\" class=\"dataframe\">\n",
       "  <thead>\n",
       "    <tr style=\"text-align: right;\">\n",
       "      <th></th>\n",
       "      <th>Words</th>\n",
       "      <th>Frequency</th>\n",
       "    </tr>\n",
       "  </thead>\n",
       "  <tbody>\n",
       "    <tr>\n",
       "      <th>0</th>\n",
       "      <td></td>\n",
       "      <td>75</td>\n",
       "    </tr>\n",
       "    <tr>\n",
       "      <th>1</th>\n",
       "      <td>the</td>\n",
       "      <td>32</td>\n",
       "    </tr>\n",
       "    <tr>\n",
       "      <th>2</th>\n",
       "      <td>food_cult</td>\n",
       "      <td>29</td>\n",
       "    </tr>\n",
       "    <tr>\n",
       "      <th>3</th>\n",
       "      <td>and</td>\n",
       "      <td>29</td>\n",
       "    </tr>\n",
       "    <tr>\n",
       "      <th>4</th>\n",
       "      <td>Follow</td>\n",
       "      <td>29</td>\n",
       "    </tr>\n",
       "    <tr>\n",
       "      <th>...</th>\n",
       "      <td>...</td>\n",
       "      <td>...</td>\n",
       "    </tr>\n",
       "    <tr>\n",
       "      <th>583</th>\n",
       "      <td>#chai</td>\n",
       "      <td>1</td>\n",
       "    </tr>\n",
       "    <tr>\n",
       "      <th>584</th>\n",
       "      <td>#cake</td>\n",
       "      <td>1</td>\n",
       "    </tr>\n",
       "    <tr>\n",
       "      <th>585</th>\n",
       "      <td>#buncream</td>\n",
       "      <td>1</td>\n",
       "    </tr>\n",
       "    <tr>\n",
       "      <th>586</th>\n",
       "      <td>#breakfastgoals</td>\n",
       "      <td>1</td>\n",
       "    </tr>\n",
       "    <tr>\n",
       "      <th>587</th>\n",
       "      <td>#breakfast</td>\n",
       "      <td>1</td>\n",
       "    </tr>\n",
       "  </tbody>\n",
       "</table>\n",
       "<p>588 rows × 2 columns</p>\n",
       "</div>"
      ],
      "text/plain": [
       "               Words  Frequency\n",
       "0                            75\n",
       "1                the         32\n",
       "2          food_cult         29\n",
       "3                and         29\n",
       "4             Follow         29\n",
       "..               ...        ...\n",
       "583            #chai          1\n",
       "584            #cake          1\n",
       "585        #buncream          1\n",
       "586  #breakfastgoals          1\n",
       "587       #breakfast          1\n",
       "\n",
       "[588 rows x 2 columns]"
      ]
     },
     "execution_count": 20,
     "metadata": {},
     "output_type": "execute_result"
    }
   ],
   "source": [
    "## 2.) 3.)\n",
    "import pandas as pd\n",
    "df = pd.DataFrame(fin)  \n",
    "df.to_csv('Contentdata.csv') \n",
    "df"
   ]
  },
  {
   "cell_type": "code",
   "execution_count": 21,
   "metadata": {},
   "outputs": [
    {
     "name": "stdout",
     "output_type": "stream",
     "text": [
      "#streetfood 13\n",
      "#foodporn 13\n",
      "#foodie 10\n",
      "#delhi 9\n",
      "#sodelhi 8\n",
      "#indianfood 8\n",
      "#foodtalkindia 8\n",
      "#foodstagram 8\n",
      "#foodblogger 8\n",
      "#delhigram 8\n"
     ]
    }
   ],
   "source": [
    "## 2.) 4.)\n",
    "hashtag = {}\n",
    "for i in df.index:\n",
    "    if df.Words[i] == '':\n",
    "        continue\n",
    "    if df.Words[i][0] == '#':\n",
    "        hashtag[df.Words[i]]= df.Frequency[i]\n",
    "count = 0\n",
    "x = []\n",
    "y = []\n",
    "for i in hashtag:\n",
    "    count += 1\n",
    "    print(i, hashtag[i])\n",
    "    x.append(i)\n",
    "    y.append(hashtag[i])\n",
    "    if count==10:\n",
    "        break"
   ]
  },
  {
   "cell_type": "code",
   "execution_count": 22,
   "metadata": {},
   "outputs": [
    {
     "data": {
      "image/png": "[encoded data removed]",
      "text/plain": [
       "<Figure size 432x288 with 1 Axes>"
      ]
     },
     "metadata": {},
     "output_type": "display_data"
    }
   ],
   "source": [
    "## 2.) 5.)\n",
    "plt.pie(y,  labels=x, autopct='%1.1f%%',shadow=True, startangle=90)\n",
    "plt.axis('equal')\n",
    "plt.show()"
   ]
  },
  {
   "cell_type": "code",
   "execution_count": 36,
   "metadata": {},
   "outputs": [],
   "source": [
    "## 3.) 1.)\n",
    "def total_likes_on_n_posts(pages , n):\n",
    "    posts_on_pages = {}\n",
    "    for i in pages:\n",
    "        d = 'https://www.instagram.com' + '/' + i + '/'\n",
    "        driver.get(d)\n",
    "        wait.until(EC.presence_of_element_located((By.XPATH, \"//*[@class='_9AhH0']\")))\n",
    "        count = 0\n",
    "        posts_on_pages[i] = 0\n",
    "        first_page = driver.find_element_by_class_name('_9AhH0')\n",
    "        first_page.click()\n",
    "        while count<n:\n",
    "            wait.until(EC.presence_of_element_located((By.XPATH, \"//*[@class='ltpMr  Slqrh']\")))\n",
    "            likes_link = 0\n",
    "            try:\n",
    "                driver.find_element_by_class_name('vcOH2').click()\n",
    "                likes_link = driver.find_element_by_class_name('vJRqr')\n",
    "#                 wait.until(EC.presence_of_element_located((By.XPATH, \"//*[@class= 'vJRqr']\")))\n",
    "            except NoSuchElementException:\n",
    "                likes_link = driver.find_element_by_class_name('Nm9Fw')\n",
    "                next_post = driver.find_element_by_class_name('coreSpriteRightPaginationArrow')\n",
    "                next_post.click()\n",
    "                continue\n",
    "            like = 0\n",
    "            for j in likes_link.text.split(' ')[0]:\n",
    "                if j == ',':\n",
    "                    continue\n",
    "                like = like *10 + float(j)\n",
    "            posts_on_pages[i] = posts_on_pages[i] + int(like)\n",
    "            count+=1\n",
    "            driver.find_element_by_class_name('QhbhU').click()\n",
    "            next_post = driver.find_element_by_class_name('coreSpriteRightPaginationArrow')\n",
    "            next_post.click()\n",
    "            \n",
    "    return posts_on_pages\n",
    "likes = total_likes_on_n_posts(ans,3)"
   ]
  },
  {
   "cell_type": "code",
   "execution_count": 37,
   "metadata": {},
   "outputs": [
    {
     "data": {
      "text/plain": [
       "{'yourfoodlab': 42016,\n",
       " 'foodie_incarnate': 107297,\n",
       " 'delhifoodwalks': 850,\n",
       " 'food': 3739,\n",
       " 'the.food_cult': 16372}"
      ]
     },
     "execution_count": 37,
     "metadata": {},
     "output_type": "execute_result"
    }
   ],
   "source": [
    "likes"
   ]
  },
  {
   "cell_type": "code",
   "execution_count": 43,
   "metadata": {},
   "outputs": [
    {
     "data": {
      "text/plain": [
       "{'yourfoodlab': 14005,\n",
       " 'foodie_incarnate': 35765,\n",
       " 'delhifoodwalks': 283,\n",
       " 'food': 1246,\n",
       " 'the.food_cult': 5457}"
      ]
     },
     "execution_count": 43,
     "metadata": {},
     "output_type": "execute_result"
    }
   ],
   "source": [
    "avg = {}\n",
    "for i in likes:\n",
    "    avg[i] = likes[i] //3\n",
    "avg"
   ]
  },
  {
   "cell_type": "code",
   "execution_count": 51,
   "metadata": {},
   "outputs": [
    {
     "data": {
      "text/plain": [
       "{'yourfoodlab': 124,\n",
       " 'foodie_incarnate': 15,\n",
       " 'delhifoodwalks': 520,\n",
       " 'food': 104,\n",
       " 'the.food_cult': 12}"
      ]
     },
     "execution_count": 51,
     "metadata": {},
     "output_type": "execute_result"
    }
   ],
   "source": [
    "## 3.) 3.) FOLLOWERS / AVG LIKES\n",
    "fin_avg = {}\n",
    "n = []\n",
    "followers  = []\n",
    "rat = []\n",
    "for i in ans:\n",
    "    fin_avg[i] = ans[i]//avg[i]\n",
    "    n.append(i)\n",
    "    followers.append(ans[i])\n",
    "    rat.append(1/fin_avg[i])\n",
    "fin_avg"
   ]
  },
  {
   "cell_type": "code",
   "execution_count": 52,
   "metadata": {},
   "outputs": [
    {
     "data": {
      "image/png": "[encoded data removed]",
      "text/plain": [
       "<Figure size 432x288 with 1 Axes>"
      ]
     },
     "metadata": {
      "needs_background": "light"
     },
     "output_type": "display_data"
    }
   ],
   "source": [
    "## 3.) 4.) information Extraction\n",
    "plt.bar(n , rat)\n",
    "plt.xticks(rotation=40)\n",
    "plt.show()"
   ]
  },
  {
   "cell_type": "code",
   "execution_count": 53,
   "metadata": {},
   "outputs": [
    {
     "data": {
      "image/png": "[encoded data removed]",
      "text/plain": [
       "<Figure size 432x288 with 1 Axes>"
      ]
     },
     "metadata": {
      "needs_background": "light"
     },
     "output_type": "display_data"
    }
   ],
   "source": [
    "plt.bar(n,followers)\n",
    "plt.xticks(rotation=40)\n",
    "plt.show()"
   ]
  },
  {
   "cell_type": "code",
   "execution_count": null,
   "metadata": {},
   "outputs": [],
   "source": []
  }
 ],
 "metadata": {
  "kernelspec": {
   "display_name": "Python 3",
   "language": "python",
   "name": "python3"
  },
  "language_info": {
   "codemirror_mode": {
    "name": "ipython",
    "version": 3
   },
   "file_extension": ".py",
   "mimetype": "text/x-python",
   "name": "python",
   "nbconvert_exporter": "python",
   "pygments_lexer": "ipython3",
   "version": "3.8.8"
  }
 },
 "nbformat": 4,
 "nbformat_minor": 4
}
